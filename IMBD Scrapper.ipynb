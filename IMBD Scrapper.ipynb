{
 "cells": [
  {
   "cell_type": "code",
   "execution_count": 1,
   "metadata": {
    "ExecuteTime": {
     "end_time": "2020-05-01T19:17:45.476953Z",
     "start_time": "2020-05-01T19:17:44.163610Z"
    }
   },
   "outputs": [],
   "source": [
    "######### IMDB Scrapping ########\n",
    "import bs4\n",
    "from urllib.request import urlopen, Request\n",
    "from bs4 import BeautifulSoup as soup\n",
    "import requests\n",
    "import time\n",
    "import pandas as pd"
   ]
  },
  {
   "cell_type": "code",
   "execution_count": 2,
   "metadata": {
    "ExecuteTime": {
     "end_time": "2020-05-01T19:18:44.443446Z",
     "start_time": "2020-05-01T19:18:42.566256Z"
    }
   },
   "outputs": [],
   "source": [
    "### Scrapping Main Page ###\n",
    "url = 'https://www.imdb.com/search/title/?companies=co0144901&ref_=adv_prv'\n",
    "pisos3 = Request(url , headers={'User-Agent': 'Mozilla/5.0'} )\n",
    "response = urlopen(pisos3).read()\n",
    "    \n",
    "pages_1= soup(response, 'html.parser')"
   ]
  },
  {
   "cell_type": "code",
   "execution_count": 31,
   "metadata": {
    "ExecuteTime": {
     "end_time": "2020-05-01T19:41:42.033851Z",
     "start_time": "2020-05-01T19:36:50.019875Z"
    }
   },
   "outputs": [],
   "source": [
    "### Scrapping Other Pages ###\n",
    "\n",
    "pages = []\n",
    "\n",
    "#\n",
    "for i in range(51,5001,50):\n",
    "    url = 'https://www.imdb.com/search/title/?companies=co0144901&start=' + str(i) + '&ref_=adv_nxt' \n",
    "    pisos3 = Request(url , headers={'User-Agent': 'Mozilla/5.0'} )\n",
    "    response = urlopen(pisos3).read()\n",
    "    time.sleep(5)\n",
    "    \n",
    "    soup_big = soup(response, 'html.parser')\n",
    "    pages.append((soup_big))"
   ]
  },
  {
   "cell_type": "code",
   "execution_count": 32,
   "metadata": {
    "ExecuteTime": {
     "end_time": "2020-05-01T19:41:42.045458Z",
     "start_time": "2020-05-01T19:41:42.035939Z"
    }
   },
   "outputs": [],
   "source": [
    "##### Append the first page to the List\n",
    "pages.append(pages_1)"
   ]
  },
  {
   "cell_type": "code",
   "execution_count": 35,
   "metadata": {
    "ExecuteTime": {
     "end_time": "2020-05-02T14:44:12.938231Z",
     "start_time": "2020-05-02T14:44:01.873467Z"
    }
   },
   "outputs": [],
   "source": [
    "### Writing the document ####\n",
    "\n",
    "filename4 = ('imdb_google_colab_1.tsv')\n",
    "headers = \"number\\ttitle\\tyears\\tdescription\\n\"\n",
    "f = open(filename4, \"w\")\n",
    "f.write(headers)\n",
    "\n",
    "#201 pages, each with 50 movies/series\n",
    "for j in range(0,201): \n",
    " for i in range(0, 50):\n",
    "    \n",
    "    number = pages[j].findAll('span', class_ = \"lister-item-index unbold text-primary\")[i].text\n",
    "    title = pages[j].findAll('h3')[i].find_all(\"a\")[0].text\n",
    "    years = pages[j].findAll(\"span\",class_=\"lister-item-year text-muted unbold\")[i].text\n",
    "    description = pages[j].findAll(\"p\",class_=\"text-muted\")[int(range(1,100,2)[i])].text.replace(\"\\n\",\"\").replace(\"  \",\"\")\n",
    "    #genre = pages[j].findAll(\"p\",class_=\"text-muted\")[int(range(0,99,2)[i])].findAll(\"span\",class_=\"genre\")[0].text.replace(\"\\n\",\"\").replace(\"  \",\"\")\n",
    "\n",
    "    #runtime = pages[j].findAll(\"p\",class_=\"text-muted\")[int(range(0,99,2)[i])].findAll(\"span\",class_=\"runtime\")[0].text.replace(\" min\",\"\")\n",
    "    #rating = pages[j].findAll(\"div\", class_=\"inline-block ratings-imdb-rating\")[i][\"data-value\"]\n",
    "    \n",
    "    f.write(number +\"\\t\"+title+ \"\\t\" + years +\"\\t\"+description+\"\\n\")\n",
    "    \n",
    "    # set genre to 'NO_GENRE' so that if parser doesn't find a genre in the next iteration, it will write this value\n",
    "    \n",
    "    #genre = 'NO_GENRE'\n",
    "f.close()"
   ]
  },
  {
   "cell_type": "code",
   "execution_count": null,
   "metadata": {},
   "outputs": [],
   "source": []
  }
 ],
 "metadata": {
  "kernelspec": {
   "display_name": "Python 3",
   "language": "python",
   "name": "python3"
  },
  "language_info": {
   "codemirror_mode": {
    "name": "ipython",
    "version": 3
   },
   "file_extension": ".py",
   "mimetype": "text/x-python",
   "name": "python",
   "nbconvert_exporter": "python",
   "pygments_lexer": "ipython3",
   "version": "3.7.3"
  }
 },
 "nbformat": 4,
 "nbformat_minor": 4
}
